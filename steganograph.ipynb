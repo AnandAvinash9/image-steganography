{
 "cells": [
  {
   "cell_type": "code",
   "execution_count": null,
   "id": "4d595021",
   "metadata": {},
   "outputs": [],
   "source": [
    "#Import necessary libraries\n",
    "from PIL import Image\n",
    "import numpy as np"
   ]
  },
  {
   "cell_type": "code",
   "execution_count": null,
   "id": "cc8485c0",
   "metadata": {},
   "outputs": [],
   "source": [
    "# Function to convert text to binary\n",
    "def text_to_binary(text):\n",
    "    \"\"\"Convert string to binary representation\"\"\"\n",
    "     # Convert each character to its 8-bit binary form and join them\n",
    "    return ''.join(format(ord(char), '08b') for char in text)"
   ]
  },
  {
   "cell_type": "code",
   "execution_count": null,
   "id": "8c06085f",
   "metadata": {},
   "outputs": [],
   "source": [
    "# Function to convert binary back to text\n",
    "def binary_to_text(binary):\n",
    "    \"\"\"Convert binary string back to text\"\"\"\n",
    "    # Split binary string into 8-bit chunks and convert each to a character\n",
    "    chars = [binary[i:i+8] for i in range(0, len(binary), 8)]\n",
    "    return ''.join([chr(int(b, 2)) for b in chars])"
   ]
  },
  {
   "cell_type": "code",
   "execution_count": null,
   "id": "07ed2a1e",
   "metadata": {},
   "outputs": [],
   "source": [
    "# Function to encode a message into an image using LSB steganography\n",
    "def encode_image(img, message):\n",
    "    \"\"\"Hide message in image using LSB steganography\"\"\"\n",
    "    img = img.convert('RGB')\n",
    "    np_img = np.array(img) # Convert image to numpy array\n",
    "\n",
    "# Convert message to binary and add a 16-bit delimiter at the end\n",
    "    binary_message = text_to_binary(message) + '1111111111111111'  # New delimiter\n",
    "    binary_index = 0\n",
    "# Iterate over each pixel and channel to embed the message bits\n",
    "    for row in np_img:\n",
    "        for pixel in row:\n",
    "            for channel in range(3):  # R, G, B channels\n",
    "                if binary_index < len(binary_message):\n",
    "                    # Set the LSB of the channel to the message bit\n",
    "                    pixel[channel] = (int(pixel[channel]) & 0b11111110) | int(binary_message[binary_index])\n",
    "                    binary_index += 1\n",
    "    # If message is too long for the image, raise an error\n",
    "    if binary_index < len(binary_message):\n",
    "        raise ValueError(\"Message too long for this image.\")\n",
    "    # Convert numpy array back to image and return\n",
    "    return Image.fromarray(np_img)"
   ]
  },
  {
   "cell_type": "code",
   "execution_count": null,
   "id": "b495fb9c",
   "metadata": {},
   "outputs": [],
   "source": [
    "# Function to decode a hidden message from an image\n",
    "def decode_image(img):\n",
    "    \"\"\"Extract hidden message from image\"\"\"\n",
    "    img = img.convert('RGB')\n",
    "    np_img = np.array(img)\n",
    "\n",
    "    binary_data = ''\n",
    "    for row in np_img:\n",
    "        for pixel in row:\n",
    "            for channel in range(3):\n",
    "                binary_data += str(pixel[channel] & 1)\n",
    "\n",
    "    # Look for our 16-bit delimiter (0xFFFF)\n",
    "    delimiter_index = binary_data.find('1111111111111111')\n",
    "    \n",
    "    if delimiter_index == -1:\n",
    "        return \"No message found or invalid format\"\n",
    "    \n",
    "    message_bits = binary_data[:delimiter_index]\n",
    "    \n",
    "    # Convert binary to text\n",
    "    chars = [message_bits[i:i+8] for i in range(0, len(message_bits), 8)]\n",
    "    try:\n",
    "        return ''.join([chr(int(b, 2)) for b in chars if len(b) == 8])\n",
    "    except:\n",
    "        return \"Error decoding message\""
   ]
  },
  {
   "cell_type": "code",
   "execution_count": null,
   "id": "aa2ad8f9",
   "metadata": {},
   "outputs": [],
   "source": [
    "# Test the encode and decode functions\n",
    "\n",
    "# Load an image (replace 'input.png' with your image file)\n",
    "img = Image.open('input.png')\n",
    "\n",
    "# Message to hide\n",
    "secret_message = \"Hello, Steganography!\"\n",
    "\n",
    "# Encode the message into the image\n",
    "encoded_img = encode_image(img, secret_message)\n",
    "\n",
    "# Save the encoded image (optional)\n",
    "encoded_img.save('encoded_output.png')\n",
    "\n",
    "# Load the encoded image for decoding\n",
    "encoded_img_loaded = Image.open('encoded_output.png')\n",
    "\n",
    "# Decode the hidden message\n",
    "decoded_message = decode_image(encoded_img_loaded)\n",
    "\n",
    "print(\"Original message:\", secret_message)\n",
    "print(\"Decoded message :\", decoded_message)"
   ]
  }
 ],
 "metadata": {
  "kernelspec": {
   "display_name": "Python 3",
   "language": "python",
   "name": "python3"
  },
  "language_info": {
   "codemirror_mode": {
    "name": "ipython",
    "version": 3
   },
   "file_extension": ".py",
   "mimetype": "text/x-python",
   "name": "python",
   "nbconvert_exporter": "python",
   "pygments_lexer": "ipython3",
   "version": "3.10.11"
  }
 },
 "nbformat": 4,
 "nbformat_minor": 5
}

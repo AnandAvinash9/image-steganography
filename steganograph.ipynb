{
 "cells": [
  {
   "cell_type": "code",
   "execution_count": 1,
   "id": "4d595021",
   "metadata": {},
   "outputs": [],
   "source": [
    "from PIL import Image\n",
    "import numpy as np"
   ]
  },
  {
   "cell_type": "code",
   "execution_count": 2,
   "id": "cc8485c0",
   "metadata": {},
   "outputs": [],
   "source": [
    "def text_to_binary(text):\n",
    "    \"\"\"Convert string to binary representation\"\"\"\n",
    "    return ''.join(format(ord(char), '08b') for char in text)"
   ]
  },
  {
   "cell_type": "code",
   "execution_count": 3,
   "id": "8c06085f",
   "metadata": {},
   "outputs": [],
   "source": [
    "def binary_to_text(binary):\n",
    "    \"\"\"Convert binary string back to text\"\"\"\n",
    "    chars = [binary[i:i+8] for i in range(0, len(binary), 8)]\n",
    "    return ''.join([chr(int(b, 2)) for b in chars])"
   ]
  },
  {
   "cell_type": "code",
   "execution_count": 4,
   "id": "07ed2a1e",
   "metadata": {},
   "outputs": [],
   "source": [
    "def encode_image(img, message):\n",
    "    \"\"\"Hide message in image using LSB steganography\"\"\"\n",
    "    img = img.convert('RGB')\n",
    "    np_img = np.array(img)\n",
    "\n",
    "    # Use a more reliable 16-bit delimiter (0xFFFF)\n",
    "    binary_message = text_to_binary(message) + '1111111111111111'  # New delimiter\n",
    "    binary_index = 0\n",
    "\n",
    "    for row in np_img:\n",
    "        for pixel in row:\n",
    "            for channel in range(3):  # R, G, B channels\n",
    "                if binary_index < len(binary_message):\n",
    "                    pixel[channel] = (int(pixel[channel]) & 0b11111110) | int(binary_message[binary_index])\n",
    "                    binary_index += 1\n",
    "\n",
    "    if binary_index < len(binary_message):\n",
    "        raise ValueError(\"Message too long for this image.\")\n",
    "\n",
    "    return Image.fromarray(np_img)"
   ]
  },
  {
   "cell_type": "code",
   "execution_count": 5,
   "id": "b495fb9c",
   "metadata": {},
   "outputs": [],
   "source": [
    "def decode_image(img):\n",
    "    \"\"\"Extract hidden message from image\"\"\"\n",
    "    img = img.convert('RGB')\n",
    "    np_img = np.array(img)\n",
    "\n",
    "    binary_data = ''\n",
    "    for row in np_img:\n",
    "        for pixel in row:\n",
    "            for channel in range(3):\n",
    "                binary_data += str(pixel[channel] & 1)\n",
    "\n",
    "    # Look for our 16-bit delimiter (0xFFFF)\n",
    "    delimiter_index = binary_data.find('1111111111111111')\n",
    "    \n",
    "    if delimiter_index == -1:\n",
    "        return \"No message found or invalid format\"\n",
    "    \n",
    "    message_bits = binary_data[:delimiter_index]\n",
    "    \n",
    "    # Convert binary to text\n",
    "    chars = [message_bits[i:i+8] for i in range(0, len(message_bits), 8)]\n",
    "    try:\n",
    "        return ''.join([chr(int(b, 2)) for b in chars if len(b) == 8])\n",
    "    except:\n",
    "        return \"Error decoding message\""
   ]
  },
  {
   "cell_type": "code",
   "execution_count": null,
   "id": "8c336721",
   "metadata": {},
   "outputs": [],
   "source": []
  }
 ],
 "metadata": {
  "kernelspec": {
   "display_name": "Python 3",
   "language": "python",
   "name": "python3"
  },
  "language_info": {
   "codemirror_mode": {
    "name": "ipython",
    "version": 3
   },
   "file_extension": ".py",
   "mimetype": "text/x-python",
   "name": "python",
   "nbconvert_exporter": "python",
   "pygments_lexer": "ipython3",
   "version": "3.10.11"
  }
 },
 "nbformat": 4,
 "nbformat_minor": 5
}
